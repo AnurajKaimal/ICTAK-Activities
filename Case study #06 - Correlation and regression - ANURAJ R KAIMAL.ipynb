{
 "cells": [
  {
   "cell_type": "code",
   "execution_count": 3,
   "id": "80e48933",
   "metadata": {},
   "outputs": [],
   "source": [
    "import pandas as pd\n",
    "import numpy as np\n",
    "import matplotlib.pyplot as plt\n",
    "import seaborn as sns\n",
    "from sklearn import preprocessing"
   ]
  },
  {
   "cell_type": "code",
   "execution_count": 8,
   "id": "61b334f9",
   "metadata": {},
   "outputs": [
    {
     "data": {
      "text/html": [
       "<div>\n",
       "<style scoped>\n",
       "    .dataframe tbody tr th:only-of-type {\n",
       "        vertical-align: middle;\n",
       "    }\n",
       "\n",
       "    .dataframe tbody tr th {\n",
       "        vertical-align: top;\n",
       "    }\n",
       "\n",
       "    .dataframe thead th {\n",
       "        text-align: right;\n",
       "    }\n",
       "</style>\n",
       "<table border=\"1\" class=\"dataframe\">\n",
       "  <thead>\n",
       "    <tr style=\"text-align: right;\">\n",
       "      <th></th>\n",
       "      <th>Date</th>\n",
       "      <th>Ad1</th>\n",
       "      <th>Ad2</th>\n",
       "      <th>Ad3</th>\n",
       "      <th>Ad4</th>\n",
       "      <th>Ad5</th>\n",
       "      <th>Profit</th>\n",
       "    </tr>\n",
       "  </thead>\n",
       "  <tbody>\n",
       "    <tr>\n",
       "      <th>0</th>\n",
       "      <td>10/8/2018</td>\n",
       "      <td>208.00</td>\n",
       "      <td>222.25</td>\n",
       "      <td>206.85</td>\n",
       "      <td>216.00</td>\n",
       "      <td>215.15</td>\n",
       "      <td>4093.065</td>\n",
       "    </tr>\n",
       "    <tr>\n",
       "      <th>1</th>\n",
       "      <td>10/5/2018</td>\n",
       "      <td>217.00</td>\n",
       "      <td>218.60</td>\n",
       "      <td>205.90</td>\n",
       "      <td>210.25</td>\n",
       "      <td>209.20</td>\n",
       "      <td>4042.448</td>\n",
       "    </tr>\n",
       "    <tr>\n",
       "      <th>2</th>\n",
       "      <td>10/4/2018</td>\n",
       "      <td>223.50</td>\n",
       "      <td>227.80</td>\n",
       "      <td>216.15</td>\n",
       "      <td>217.25</td>\n",
       "      <td>218.20</td>\n",
       "      <td>4213.819</td>\n",
       "    </tr>\n",
       "    <tr>\n",
       "      <th>3</th>\n",
       "      <td>10/3/2018</td>\n",
       "      <td>230.00</td>\n",
       "      <td>237.50</td>\n",
       "      <td>225.75</td>\n",
       "      <td>226.45</td>\n",
       "      <td>227.60</td>\n",
       "      <td>4391.665</td>\n",
       "    </tr>\n",
       "    <tr>\n",
       "      <th>4</th>\n",
       "      <td>10/1/2018</td>\n",
       "      <td>234.55</td>\n",
       "      <td>234.60</td>\n",
       "      <td>221.05</td>\n",
       "      <td>230.30</td>\n",
       "      <td>230.90</td>\n",
       "      <td>4350.683</td>\n",
       "    </tr>\n",
       "    <tr>\n",
       "      <th>...</th>\n",
       "      <td>...</td>\n",
       "      <td>...</td>\n",
       "      <td>...</td>\n",
       "      <td>...</td>\n",
       "      <td>...</td>\n",
       "      <td>...</td>\n",
       "      <td>...</td>\n",
       "    </tr>\n",
       "    <tr>\n",
       "      <th>200</th>\n",
       "      <td>12/14/2017</td>\n",
       "      <td>288.00</td>\n",
       "      <td>288.25</td>\n",
       "      <td>279.20</td>\n",
       "      <td>284.50</td>\n",
       "      <td>284.30</td>\n",
       "      <td>5374.105</td>\n",
       "    </tr>\n",
       "    <tr>\n",
       "      <th>201</th>\n",
       "      <td>12/13/2017</td>\n",
       "      <td>290.00</td>\n",
       "      <td>292.50</td>\n",
       "      <td>282.20</td>\n",
       "      <td>284.80</td>\n",
       "      <td>284.45</td>\n",
       "      <td>5439.655</td>\n",
       "    </tr>\n",
       "    <tr>\n",
       "      <th>202</th>\n",
       "      <td>12/12/2017</td>\n",
       "      <td>298.60</td>\n",
       "      <td>298.60</td>\n",
       "      <td>286.65</td>\n",
       "      <td>287.45</td>\n",
       "      <td>287.80</td>\n",
       "      <td>5545.013</td>\n",
       "    </tr>\n",
       "    <tr>\n",
       "      <th>203</th>\n",
       "      <td>12/11/2017</td>\n",
       "      <td>290.00</td>\n",
       "      <td>299.55</td>\n",
       "      <td>285.90</td>\n",
       "      <td>297.85</td>\n",
       "      <td>298.35</td>\n",
       "      <td>5565.444</td>\n",
       "    </tr>\n",
       "    <tr>\n",
       "      <th>204</th>\n",
       "      <td>12/8/2017</td>\n",
       "      <td>287.55</td>\n",
       "      <td>289.90</td>\n",
       "      <td>285.05</td>\n",
       "      <td>288.05</td>\n",
       "      <td>288.45</td>\n",
       "      <td>5421.842</td>\n",
       "    </tr>\n",
       "  </tbody>\n",
       "</table>\n",
       "<p>205 rows × 7 columns</p>\n",
       "</div>"
      ],
      "text/plain": [
       "           Date     Ad1     Ad2     Ad3     Ad4     Ad5    Profit\n",
       "0     10/8/2018  208.00  222.25  206.85  216.00  215.15  4093.065\n",
       "1     10/5/2018  217.00  218.60  205.90  210.25  209.20  4042.448\n",
       "2     10/4/2018  223.50  227.80  216.15  217.25  218.20  4213.819\n",
       "3     10/3/2018  230.00  237.50  225.75  226.45  227.60  4391.665\n",
       "4     10/1/2018  234.55  234.60  221.05  230.30  230.90  4350.683\n",
       "..          ...     ...     ...     ...     ...     ...       ...\n",
       "200  12/14/2017  288.00  288.25  279.20  284.50  284.30  5374.105\n",
       "201  12/13/2017  290.00  292.50  282.20  284.80  284.45  5439.655\n",
       "202  12/12/2017  298.60  298.60  286.65  287.45  287.80  5545.013\n",
       "203  12/11/2017  290.00  299.55  285.90  297.85  298.35  5565.444\n",
       "204   12/8/2017  287.55  289.90  285.05  288.05  288.45  5421.842\n",
       "\n",
       "[205 rows x 7 columns]"
      ]
     },
     "execution_count": 8,
     "metadata": {},
     "output_type": "execute_result"
    }
   ],
   "source": [
    "data =pd.read_csv(r\"D:\\DATA SCIENCE\\TASKS\\Add_sales_data_2018.csv\")\n",
    "data"
   ]
  },
  {
   "cell_type": "code",
   "execution_count": 9,
   "id": "d2e53734",
   "metadata": {},
   "outputs": [
    {
     "name": "stdout",
     "output_type": "stream",
     "text": [
      "              Ad1         Ad2         Ad3         Ad4         Ad5       Profit\n",
      "count  205.000000  205.000000  205.000000  205.000000  205.000000   205.000000\n",
      "mean   267.577561  271.722439  262.990732  267.223902  267.152683  5059.630234\n",
      "std     26.219588   25.914939   26.126704   26.238832   26.215360   486.910414\n",
      "min    208.000000  218.600000  205.900000  210.250000  209.200000  4042.448000\n",
      "25%    244.000000  248.500000  240.300000  243.050000  243.000000  4617.695000\n",
      "50%    269.700000  274.200000  263.250000  268.900000  268.350000  5088.455000\n",
      "75%    284.400000  288.800000  280.900000  284.500000  284.450000  5387.438000\n",
      "max    327.700000  328.750000  321.650000  325.950000  325.750000  6137.800000\n"
     ]
    }
   ],
   "source": [
    "print (data.describe())"
   ]
  },
  {
   "cell_type": "code",
   "execution_count": 10,
   "id": "61e0d469",
   "metadata": {},
   "outputs": [
    {
     "data": {
      "text/plain": [
       "Date      0\n",
       "Ad1       0\n",
       "Ad2       0\n",
       "Ad3       0\n",
       "Ad4       0\n",
       "Ad5       0\n",
       "Profit    0\n",
       "dtype: int64"
      ]
     },
     "execution_count": 10,
     "metadata": {},
     "output_type": "execute_result"
    }
   ],
   "source": [
    "data.isna().sum()"
   ]
  },
  {
   "cell_type": "markdown",
   "id": "fbf64ce5",
   "metadata": {},
   "source": [
    "# 1. First of all, check whether there is any relationship between the amount\n",
    "spent for advertising through five different companies and profit\n",
    "generated.\n"
   ]
  },
  {
   "cell_type": "code",
   "execution_count": 11,
   "id": "ab71fbdc",
   "metadata": {},
   "outputs": [
    {
     "data": {
      "text/plain": [
       "<AxesSubplot:>"
      ]
     },
     "execution_count": 11,
     "metadata": {},
     "output_type": "execute_result"
    },
    {
     "data": {
      "image/png": "[encoded data removed]",
      "text/plain": [
       "<Figure size 720x720 with 2 Axes>"
      ]
     },
     "metadata": {
      "needs_background": "light"
     },
     "output_type": "display_data"
    }
   ],
   "source": [
    "corrmatrix=data.corr()\n",
    "plt.subplots(figsize=(10,10))\n",
    "sns.heatmap(corrmatrix,vmin=-2,vmax=.9,annot=True,linewidth=0.2,cmap='YlGnBu')"
   ]
  },
  {
   "cell_type": "markdown",
   "id": "a4dff3df",
   "metadata": {},
   "source": [
    "#### THERE IS VERY HIGH POSITIVE CORRELATION BETWEEN THE AMOUNT SPENT FOR ADVERTISEMENT AND PROFIT. AS THE AMOUNT SPENT INCREASE PROFITABILITY ALSO INCREASE"
   ]
  },
  {
   "cell_type": "markdown",
   "id": "c89ca543",
   "metadata": {},
   "source": [
    "# 2. Build a regression model to predict the profit from the given data and\n",
    "comment your findings on it"
   ]
  },
  {
   "cell_type": "code",
   "execution_count": 19,
   "id": "184e14de",
   "metadata": {},
   "outputs": [],
   "source": [
    "x=data.drop(['Profit', 'Date'], axis=1).values\n",
    "y=data['Profit'].values"
   ]
  },
  {
   "cell_type": "code",
   "execution_count": 20,
   "id": "163c62b8",
   "metadata": {},
   "outputs": [
    {
     "name": "stdout",
     "output_type": "stream",
     "text": [
      "[[208.   222.25 206.85 216.   215.15]\n",
      " [217.   218.6  205.9  210.25 209.2 ]\n",
      " [223.5  227.8  216.15 217.25 218.2 ]\n",
      " ...\n",
      " [298.6  298.6  286.65 287.45 287.8 ]\n",
      " [290.   299.55 285.9  297.85 298.35]\n",
      " [287.55 289.9  285.05 288.05 288.45]]\n"
     ]
    }
   ],
   "source": [
    "print(x)"
   ]
  },
  {
   "cell_type": "code",
   "execution_count": 22,
   "id": "5b744485",
   "metadata": {},
   "outputs": [],
   "source": [
    "#split data set in training & test\n",
    "from sklearn.model_selection import train_test_split\n",
    "x_train, x_test, y_train, y_test=train_test_split(x,y,test_size=0.4, random_state=0)"
   ]
  },
  {
   "cell_type": "code",
   "execution_count": 23,
   "id": "453ef006",
   "metadata": {},
   "outputs": [
    {
     "data": {
      "text/plain": [
       "LinearRegression()"
      ]
     },
     "execution_count": 23,
     "metadata": {},
     "output_type": "execute_result"
    }
   ],
   "source": [
    "#train model\n",
    "from sklearn.linear_model import LinearRegression\n",
    "ml=LinearRegression()\n",
    "ml.fit(x_train,y_train)"
   ]
  },
  {
   "cell_type": "code",
   "execution_count": 28,
   "id": "3fe520ff",
   "metadata": {},
   "outputs": [],
   "source": [
    "y_pred=ml.predict(x_test)"
   ]
  },
  {
   "cell_type": "code",
   "execution_count": 29,
   "id": "cf47ffd1",
   "metadata": {},
   "outputs": [
    {
     "data": {
      "text/plain": [
       "array([4093.065])"
      ]
     },
     "execution_count": 29,
     "metadata": {},
     "output_type": "execute_result"
    }
   ],
   "source": [
    "ml.predict([[208.00,222.25,206.85,216.00,215.15]])"
   ]
  },
  {
   "cell_type": "code",
   "execution_count": 30,
   "id": "97c44454",
   "metadata": {},
   "outputs": [
    {
     "data": {
      "text/plain": [
       "1.0"
      ]
     },
     "execution_count": 30,
     "metadata": {},
     "output_type": "execute_result"
    }
   ],
   "source": [
    "#evaluate model\n",
    "from sklearn.metrics import r2_score\n",
    "r2_score(y_test,y_pred)"
   ]
  },
  {
   "cell_type": "code",
   "execution_count": 32,
   "id": "ca2410ea",
   "metadata": {},
   "outputs": [
    {
     "data": {
      "text/html": [
       "<div>\n",
       "<style scoped>\n",
       "    .dataframe tbody tr th:only-of-type {\n",
       "        vertical-align: middle;\n",
       "    }\n",
       "\n",
       "    .dataframe tbody tr th {\n",
       "        vertical-align: top;\n",
       "    }\n",
       "\n",
       "    .dataframe thead th {\n",
       "        text-align: right;\n",
       "    }\n",
       "</style>\n",
       "<table border=\"1\" class=\"dataframe\">\n",
       "  <thead>\n",
       "    <tr style=\"text-align: right;\">\n",
       "      <th></th>\n",
       "      <th>Actual Value</th>\n",
       "      <th>Predicted Value</th>\n",
       "      <th>Difference</th>\n",
       "    </tr>\n",
       "  </thead>\n",
       "  <tbody>\n",
       "    <tr>\n",
       "      <th>0</th>\n",
       "      <td>4494.144</td>\n",
       "      <td>4494.144</td>\n",
       "      <td>-2.728484e-12</td>\n",
       "    </tr>\n",
       "    <tr>\n",
       "      <th>1</th>\n",
       "      <td>5921.116</td>\n",
       "      <td>5921.116</td>\n",
       "      <td>0.000000e+00</td>\n",
       "    </tr>\n",
       "    <tr>\n",
       "      <th>2</th>\n",
       "      <td>4404.686</td>\n",
       "      <td>4404.686</td>\n",
       "      <td>-2.728484e-12</td>\n",
       "    </tr>\n",
       "    <tr>\n",
       "      <th>3</th>\n",
       "      <td>4190.965</td>\n",
       "      <td>4190.965</td>\n",
       "      <td>-2.728484e-12</td>\n",
       "    </tr>\n",
       "    <tr>\n",
       "      <th>4</th>\n",
       "      <td>5880.541</td>\n",
       "      <td>5880.541</td>\n",
       "      <td>0.000000e+00</td>\n",
       "    </tr>\n",
       "    <tr>\n",
       "      <th>5</th>\n",
       "      <td>5728.804</td>\n",
       "      <td>5728.804</td>\n",
       "      <td>-9.094947e-13</td>\n",
       "    </tr>\n",
       "    <tr>\n",
       "      <th>6</th>\n",
       "      <td>5225.140</td>\n",
       "      <td>5225.140</td>\n",
       "      <td>-9.094947e-13</td>\n",
       "    </tr>\n",
       "    <tr>\n",
       "      <th>7</th>\n",
       "      <td>5017.503</td>\n",
       "      <td>5017.503</td>\n",
       "      <td>-1.818989e-12</td>\n",
       "    </tr>\n",
       "    <tr>\n",
       "      <th>8</th>\n",
       "      <td>5518.561</td>\n",
       "      <td>5518.561</td>\n",
       "      <td>-9.094947e-13</td>\n",
       "    </tr>\n",
       "    <tr>\n",
       "      <th>9</th>\n",
       "      <td>4513.600</td>\n",
       "      <td>4513.600</td>\n",
       "      <td>-9.094947e-13</td>\n",
       "    </tr>\n",
       "  </tbody>\n",
       "</table>\n",
       "</div>"
      ],
      "text/plain": [
       "   Actual Value  Predicted Value    Difference\n",
       "0      4494.144         4494.144 -2.728484e-12\n",
       "1      5921.116         5921.116  0.000000e+00\n",
       "2      4404.686         4404.686 -2.728484e-12\n",
       "3      4190.965         4190.965 -2.728484e-12\n",
       "4      5880.541         5880.541  0.000000e+00\n",
       "5      5728.804         5728.804 -9.094947e-13\n",
       "6      5225.140         5225.140 -9.094947e-13\n",
       "7      5017.503         5017.503 -1.818989e-12\n",
       "8      5518.561         5518.561 -9.094947e-13\n",
       "9      4513.600         4513.600 -9.094947e-13"
      ]
     },
     "execution_count": 32,
     "metadata": {},
     "output_type": "execute_result"
    }
   ],
   "source": [
    "pred_y_df=pd.DataFrame({'Actual Value':y_test, 'Predicted Value':y_pred, 'Difference':y_test-y_pred})\n",
    "pred_y_df[0:10]"
   ]
  },
  {
   "cell_type": "markdown",
   "id": "26b87571",
   "metadata": {},
   "source": [
    "#### THE MODEL DEVELOPED FOR PREDICTION IS VERY STRONG AND THE DIFFERENCE BETWEEN ACTUAL AND PREDICTED VALUE IS VERY LESS"
   ]
  },
  {
   "cell_type": "markdown",
   "id": "c9ed23bc",
   "metadata": {},
   "source": [
    "# 3. Predict the profit generated by the company, if they wish to spend the\n",
    "following amount for advertisement. [290.00,312.00,309.00,298.00,320.00]"
   ]
  },
  {
   "cell_type": "code",
   "execution_count": 33,
   "id": "88f8f69a",
   "metadata": {},
   "outputs": [
    {
     "data": {
      "text/plain": [
       "array([5820.06])"
      ]
     },
     "execution_count": 33,
     "metadata": {},
     "output_type": "execute_result"
    }
   ],
   "source": [
    "ml.predict([[290.00,312.00,309.00,298.00,320.00]])"
   ]
  },
  {
   "cell_type": "markdown",
   "id": "83c1788e",
   "metadata": {},
   "source": [
    "### As per the model the predicted profit of the company is 5820.06 (in thousands) ie, 5820060"
   ]
  }
 ],
 "metadata": {
  "kernelspec": {
   "display_name": "Python 3 (ipykernel)",
   "language": "python",
   "name": "python3"
  },
  "language_info": {
   "codemirror_mode": {
    "name": "ipython",
    "version": 3
   },
   "file_extension": ".py",
   "mimetype": "text/x-python",
   "name": "python",
   "nbconvert_exporter": "python",
   "pygments_lexer": "ipython3",
   "version": "3.9.7"
  }
 },
 "nbformat": 4,
 "nbformat_minor": 5
}
